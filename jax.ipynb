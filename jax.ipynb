{
  "nbformat": 4,
  "nbformat_minor": 0,
  "metadata": {
    "colab": {
      "provenance": []
    },
    "kernelspec": {
      "name": "python3",
      "display_name": "Python 3"
    },
    "language_info": {
      "name": "python"
    }
  },
  "cells": [
    {
      "source": [
        "!pip install jax jaxlib --upgrade"
      ],
      "cell_type": "code",
      "metadata": {
        "colab": {
          "base_uri": "https://localhost:8080/"
        },
        "id": "FcH2LSqzkf8c",
        "outputId": "33fb516c-3c61-445f-cad5-fa1eaed09535"
      },
      "execution_count": 1,
      "outputs": [
        {
          "output_type": "stream",
          "name": "stdout",
          "text": [
            "Requirement already satisfied: jax in /usr/local/lib/python3.10/dist-packages (0.4.30)\n",
            "Requirement already satisfied: jaxlib in /usr/local/lib/python3.10/dist-packages (0.4.30)\n",
            "Requirement already satisfied: ml-dtypes>=0.2.0 in /usr/local/lib/python3.10/dist-packages (from jax) (0.2.0)\n",
            "Requirement already satisfied: numpy>=1.22 in /usr/local/lib/python3.10/dist-packages (from jax) (1.25.2)\n",
            "Requirement already satisfied: opt-einsum in /usr/local/lib/python3.10/dist-packages (from jax) (3.3.0)\n",
            "Requirement already satisfied: scipy>=1.9 in /usr/local/lib/python3.10/dist-packages (from jax) (1.11.4)\n"
          ]
        }
      ]
    },
    {
      "cell_type": "code",
      "source": [
        "import numpy as np\n",
        "import matplotlib.pyplot as plt\n",
        "import jax.numpy as jnp\n",
        "from jax  import jit ,grad , random"
      ],
      "metadata": {
        "id": "gWkH0AjokntM"
      },
      "execution_count": 2,
      "outputs": []
    },
    {
      "cell_type": "code",
      "source": [
        "k=random.PRNGKey(0)\n",
        "nSample=100"
      ],
      "metadata": {
        "id": "6Ub36qlGkygT"
      },
      "execution_count": 3,
      "outputs": []
    },
    {
      "cell_type": "code",
      "source": [
        "x=random.uniform(k,shape=(nSample,))"
      ],
      "metadata": {
        "id": "Roq3PldHk8Mn"
      },
      "execution_count": 4,
      "outputs": []
    },
    {
      "cell_type": "code",
      "source": [
        "trueW=2.0\n",
        "trueB=0.75"
      ],
      "metadata": {
        "id": "9sic2_VelCAo"
      },
      "execution_count": 5,
      "outputs": []
    },
    {
      "cell_type": "code",
      "source": [
        "y=trueW*x+trueB+random.normal(k,shape=(nSample,))"
      ],
      "metadata": {
        "id": "6W-1md18lG75"
      },
      "execution_count": 6,
      "outputs": []
    },
    {
      "cell_type": "code",
      "source": [
        "def predict (params,x):\n",
        "  w,b=params\n",
        "  return w*x+b"
      ],
      "metadata": {
        "id": "EHINw187lKte"
      },
      "execution_count": 7,
      "outputs": []
    },
    {
      "cell_type": "code",
      "source": [
        "def loss(params,x,y):\n",
        "  pred=predict(params,x)\n",
        "  return jnp.mean((pred-y)**2)"
      ],
      "metadata": {
        "id": "cDp5fmWPlRP-"
      },
      "execution_count": 8,
      "outputs": []
    },
    {
      "cell_type": "code",
      "source": [
        "lossGrd=grad(loss)\n",
        "params=[jnp.array(0.0),jnp.array(0.0)]"
      ],
      "metadata": {
        "id": "OUfBGeo8lahZ"
      },
      "execution_count": 9,
      "outputs": []
    },
    {
      "cell_type": "code",
      "source": [
        "lR=0.1\n",
        "nIt= 1000\n",
        "\n",
        "for i in range(nIt):\n",
        "  grad=lossGrd(params,x,y)\n",
        "  params=[p-lR*g for p, g in zip(params,grad)]\n",
        "\n",
        "  if i%100==0:\n",
        "    print(\"Current Loss\",loss(params,x,y))"
      ],
      "metadata": {
        "colab": {
          "base_uri": "https://localhost:8080/"
        },
        "id": "aD0fOXkAllLp",
        "outputId": "39a9a705-c3ec-4100-9104-fc1fbb71f3df"
      },
      "execution_count": 10,
      "outputs": [
        {
          "output_type": "stream",
          "name": "stdout",
          "text": [
            "Current Loss 3.8477178\n",
            "Current Loss 0.16192566\n",
            "Current Loss 0.038532354\n",
            "Current Loss 0.027549783\n",
            "Current Loss 0.026572283\n",
            "Current Loss 0.026485275\n",
            "Current Loss 0.026477545\n",
            "Current Loss 0.026476845\n",
            "Current Loss 0.026476776\n",
            "Current Loss 0.026476763\n"
          ]
        }
      ]
    },
    {
      "cell_type": "code",
      "source": [
        "w,b=params\n",
        "print(f\"Trained Weights {w}\")\n",
        "print(f\"Trained Bias {b}\")"
      ],
      "metadata": {
        "colab": {
          "base_uri": "https://localhost:8080/"
        },
        "id": "l4CRglm7mOjq",
        "outputId": "6b80e119-c98c-4dd5-9365-cce535ee66b5"
      },
      "execution_count": 11,
      "outputs": [
        {
          "output_type": "stream",
          "name": "stdout",
          "text": [
            "Trained Weights 5.32358980178833\n",
            "Trained Bias -0.9114283919334412\n"
          ]
        }
      ]
    },
    {
      "source": [
        "plt.plot(x,y,label='Data', marker='o', linestyle='none')\n",
        "plt.plot(x,predict(params,x),color='green',label='Fitted Line')\n",
        "plt.legend()\n",
        "plt.xlabel('x')\n",
        "plt.ylabel('y')\n",
        "plt.title('Linear Regression With JAX')\n",
        "plt.grid(True)\n",
        "plt.show()\n"
      ],
      "cell_type": "code",
      "metadata": {
        "colab": {
          "base_uri": "https://localhost:8080/",
          "height": 472
        },
        "id": "sKOqP1UonB7k",
        "outputId": "1cce4bca-305f-49ff-de6a-ac58a361e291"
      },
      "execution_count": 13,
      "outputs": [
        {
          "output_type": "display_data",
          "data": {
            "text/plain": [
              "<Figure size 640x480 with 1 Axes>"
            ],
            "image/png": "[encoded data removed]"
          },
          "metadata": {}
        }
      ]
    }
  ]
}